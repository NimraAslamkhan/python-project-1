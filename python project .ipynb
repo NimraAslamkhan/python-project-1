{
 "cells": [
  {
   "cell_type": "code",
   "execution_count": null,
   "id": "f97a0c4b-a3c5-4964-bbd2-6385bfb24712",
   "metadata": {},
   "outputs": [],
   "source": [
    "the Number Game\n",
    "Create a game where the computer randomly selects a number, \n",
    "and the player has to guess it within a certain number of tries. \n",
    "provide hints like \"Too High\" or \"Too Low\" after each guess"
   ]
  },
  {
   "cell_type": "code",
   "execution_count": 9,
   "id": "119bf7c9-3de2-4836-9bb9-55623aa2152c",
   "metadata": {},
   "outputs": [
    {
     "name": "stdout",
     "output_type": "stream",
     "text": [
      "Guess a number between 1 and 100:  75\n"
     ]
    },
    {
     "name": "stdout",
     "output_type": "stream",
     "text": [
      "Too High!\n"
     ]
    },
    {
     "name": "stdout",
     "output_type": "stream",
     "text": [
      "Guess a number between 1 and 100:  34\n"
     ]
    },
    {
     "name": "stdout",
     "output_type": "stream",
     "text": [
      "Too Low!\n"
     ]
    },
    {
     "name": "stdout",
     "output_type": "stream",
     "text": [
      "Guess a number between 1 and 100:  56\n"
     ]
    },
    {
     "name": "stdout",
     "output_type": "stream",
     "text": [
      "Too High!\n"
     ]
    },
    {
     "name": "stdout",
     "output_type": "stream",
     "text": [
      "Guess a number between 1 and 100:  34\n"
     ]
    },
    {
     "name": "stdout",
     "output_type": "stream",
     "text": [
      "Too Low!\n"
     ]
    },
    {
     "name": "stdout",
     "output_type": "stream",
     "text": [
      "Guess a number between 1 and 100:  54\n"
     ]
    },
    {
     "name": "stdout",
     "output_type": "stream",
     "text": [
      "Too High!\n"
     ]
    },
    {
     "name": "stdout",
     "output_type": "stream",
     "text": [
      "Guess a number between 1 and 100:  34\n"
     ]
    },
    {
     "name": "stdout",
     "output_type": "stream",
     "text": [
      "Too Low!\n"
     ]
    },
    {
     "name": "stdout",
     "output_type": "stream",
     "text": [
      "Guess a number between 1 and 100:  65\n"
     ]
    },
    {
     "name": "stdout",
     "output_type": "stream",
     "text": [
      "Too High!\n"
     ]
    },
    {
     "name": "stdout",
     "output_type": "stream",
     "text": [
      "Guess a number between 1 and 100:  23\n"
     ]
    },
    {
     "name": "stdout",
     "output_type": "stream",
     "text": [
      "Too Low!\n"
     ]
    },
    {
     "name": "stdout",
     "output_type": "stream",
     "text": [
      "Guess a number between 1 and 100:  65\n"
     ]
    },
    {
     "name": "stdout",
     "output_type": "stream",
     "text": [
      "Too High!\n"
     ]
    },
    {
     "name": "stdout",
     "output_type": "stream",
     "text": [
      "Guess a number between 1 and 100:  98\n"
     ]
    },
    {
     "name": "stdout",
     "output_type": "stream",
     "text": [
      "Too High!\n",
      "Sorry, you've used all your attempts. The correct number was 43.\n"
     ]
    }
   ],
   "source": [
    "import random\n",
    "\n",
    "min_number = 1\n",
    "max_number = 100\n",
    "max_attempts = 10\n",
    "\n",
    "secret_number = random.randint(min_number, max_number)\n",
    "attempts = 0\n",
    "\n",
    "while attempts < max_attempts:\n",
    "    guess = int(input(f\"Guess a number between {min_number} and {max_number}: \"))\n",
    "    attempts += 1\n",
    "\n",
    "    if guess == secret_number:\n",
    "        print(f\"Congratulations! You guessed the number in {attempts} attempts.\")\n",
    "        break \n",
    "    elif guess > secret_number:\n",
    "        print(\"Too High!\")\n",
    "    else:\n",
    "        print(\"Too Low!\")\n",
    "\n",
    "if attempts == max_attempts and guess != secret_number:\n",
    "    print(f\"Sorry, you've used all your attempts. The correct number was {secret_number}.\")\n",
    "\n"
   ]
  },
  {
   "cell_type": "code",
   "execution_count": null,
   "id": "07a15981-9f97-48a8-8228-2115b2140744",
   "metadata": {},
   "outputs": [],
   "source": [
    "Design a quiz program where asked a series of questions, \n",
    "and their score is calculated based on their answers.\n"
   ]
  },
  {
   "cell_type": "code",
   "execution_count": 10,
   "id": "e594904f-8ba6-4fab-a963-860fdab9d1e3",
   "metadata": {},
   "outputs": [
    {
     "name": "stdout",
     "output_type": "stream",
     "text": [
      "Welcome to the Quiz!\n",
      "\n",
      "Question 1: What is the capital of France?\n",
      "a) Paris\n",
      "b) London\n",
      "c) Berlin\n",
      "d) Rome\n"
     ]
    },
    {
     "name": "stdout",
     "output_type": "stream",
     "text": [
      "Enter your answer (a/b/c/d):  a\n"
     ]
    },
    {
     "name": "stdout",
     "output_type": "stream",
     "text": [
      "Correct!\n",
      "\n",
      "Question 2: Which planet is known as the Red Planet?\n",
      "a) Earth\n",
      "b) Mars\n",
      "c) Jupiter\n",
      "d) Saturn\n"
     ]
    },
    {
     "name": "stdout",
     "output_type": "stream",
     "text": [
      "Enter your answer (a/b/c/d):  b\n"
     ]
    },
    {
     "name": "stdout",
     "output_type": "stream",
     "text": [
      "Correct!\n",
      "\n",
      "Question 3: Who wrote 'Hamlet'?\n",
      "a) Charles Dickens\n",
      "b) J.K. Rowling\n",
      "c) William Shakespeare\n",
      "d) Mark Twain\n"
     ]
    },
    {
     "name": "stdout",
     "output_type": "stream",
     "text": [
      "Enter your answer (a/b/c/d):  c\n"
     ]
    },
    {
     "name": "stdout",
     "output_type": "stream",
     "text": [
      "Correct!\n",
      "\n",
      "You got 3 out of 3 correct!\n",
      "Your score is 100.00%.\n",
      "Great job! You passed the quiz.\n",
      "Thank you for playing!\n"
     ]
    }
   ],
   "source": [
    "questions = [\n",
    "    {\n",
    "        \"question\": \"What is the capital of France?\",\n",
    "        \"options\": [\"a) Paris\", \"b) London\", \"c) Berlin\", \"d) Rome\"],\n",
    "        \"answer\": \"a\"\n",
    "    },\n",
    "    {\n",
    "        \"question\": \"Which planet is known as the Red Planet?\",\n",
    "        \"options\": [\"a) Earth\", \"b) Mars\", \"c) Jupiter\", \"d) Saturn\"],\n",
    "        \"answer\": \"b\"\n",
    "    },\n",
    "    {\n",
    "        \"question\": \"Who wrote 'Hamlet'?\",\n",
    "        \"options\": [\"a) Charles Dickens\", \"b) J.K. Rowling\", \"c) William Shakespeare\", \"d) Mark Twain\"],\n",
    "        \"answer\": \"c\"\n",
    "    }\n",
    "    \n",
    "]\n",
    "\n",
    "def run_quiz(questions):\n",
    "    score = 0\n",
    "    for idx, question in enumerate(questions):\n",
    "        print(f\"\\nQuestion {idx + 1}: {question['question']}\")\n",
    "        for option in question[\"options\"]:\n",
    "            print(option)\n",
    "        answer = input(\"Enter your answer (a/b/c/d): \").lower()\n",
    "        if answer == question[\"answer\"]:\n",
    "            print(\"Correct!\")\n",
    "            score += 1\n",
    "        else:\n",
    "            print(f\"Incorrect. The correct answer was {question['answer']}.\")\n",
    "    return score\n",
    "def calculate_score(score, total_questions):\n",
    "    print(f\"\\nYou got {score} out of {total_questions} correct!\")\n",
    "    percentage = (score / total_questions) * 100\n",
    "    print(f\"Your score is {percentage:.2f}%.\")\n",
    "    if percentage >= 80:\n",
    "        print(\"Great job! You passed the quiz.\")\n",
    "    else:\n",
    "        print(\"Better luck next time!\")\n",
    "def main():\n",
    "    print(\"Welcome to the Quiz!\")\n",
    "    score = run_quiz(questions)\n",
    "    calculate_score(score, len(questions))\n",
    "    print(\"Thank you for playing!\")\n",
    "\n",
    "if __name__ == \"__main__\":\n",
    "    main()\n",
    "\n"
   ]
  }
 ],
 "metadata": {
  "kernelspec": {
   "display_name": "Python 3 (ipykernel)",
   "language": "python",
   "name": "python3"
  },
  "language_info": {
   "codemirror_mode": {
    "name": "ipython",
    "version": 3
   },
   "file_extension": ".py",
   "mimetype": "text/x-python",
   "name": "python",
   "nbconvert_exporter": "python",
   "pygments_lexer": "ipython3",
   "version": "3.12.1"
  }
 },
 "nbformat": 4,
 "nbformat_minor": 5
}
